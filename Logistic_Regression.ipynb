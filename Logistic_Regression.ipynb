{
 "cells": [
  {
   "cell_type": "code",
   "execution_count": 65,
   "id": "694de409",
   "metadata": {},
   "outputs": [],
   "source": [
    "import numpy as np\n",
    "import matplotlib.pyplot as plt"
   ]
  },
  {
   "cell_type": "code",
   "execution_count": 74,
   "id": "86da142d",
   "metadata": {},
   "outputs": [
    {
     "name": "stdout",
     "output_type": "stream",
     "text": [
      "304\n"
     ]
    }
   ],
   "source": [
    "delta_x = np.loadtxt(\"first.txt\", dtype=float)\n",
    "\n",
    "delta_y = np.loadtxt(\"second.txt\", dtype=float)\n",
    "\n",
    "label = np.loadtxt(\"third.txt\", dtype=int)\n",
    "\n",
    "input_features = np.column_stack((delta_x, delta_y))"
   ]
  },
  {
   "cell_type": "code",
   "execution_count": 68,
   "id": "5b33d8e0",
   "metadata": {},
   "outputs": [
    {
     "data": {
      "text/plain": [
       "LogisticRegression()"
      ]
     },
     "execution_count": 68,
     "metadata": {},
     "output_type": "execute_result"
    }
   ],
   "source": [
    "from sklearn.model_selection import train_test_split\n",
    "from sklearn.linear_model import LogisticRegression\n",
    "\n",
    "x_train,x_test,y_train,y_test=train_test_split(input_features, label, test_size=0.25,random_state=0)\n",
    "\n",
    "model = LogisticRegression()\n",
    "\n",
    "model.fit(x_train, y_train)"
   ]
  },
  {
   "cell_type": "code",
   "execution_count": 75,
   "id": "5cb756ca",
   "metadata": {},
   "outputs": [
    {
     "name": "stdout",
     "output_type": "stream",
     "text": [
      "Random Δx for Testing Model \n",
      "[ 0.26   0.11  -0.209 -0.192  0.211]\n",
      "\n",
      "Random Δy for Testing Model\n",
      "[ 0.175 -0.298 -0.18   0.121  0.54 ]\n",
      "\n",
      "Predicted Label (in our case, quadrant)\n",
      "[1 4 3 2 1]\n"
     ]
    }
   ],
   "source": [
    "#Creating random Δx and Δy values, will be stored in a 2D array\n",
    "\n",
    "#Sample Δx\n",
    "d_x = np.array([0.26, 0.11, -0.209, -0.192, 0.211])\n",
    "\n",
    "#Sample Δy\n",
    "d_y = np.array([0.175, -0.298, -0.18, 0.121, 0.54])\n",
    "\n",
    "#Merging Δx and Δy to test on created model\n",
    "test_features = np.column_stack((d_x, d_y))\n",
    "\n",
    "#Predicting Labels\n",
    "out = model.predict(test_features)\n",
    "\n",
    "#Displaying results\n",
    "print('Random Δx for Testing Model ')\n",
    "print(d_x)\n",
    "print('')\n",
    "print('Random Δy for Testing Model')\n",
    "print(d_y)\n",
    "print('')\n",
    "print('Predicted Label (in our case, quadrant)')\n",
    "print(out)"
   ]
  },
  {
   "cell_type": "code",
   "execution_count": null,
   "id": "2818e438",
   "metadata": {},
   "outputs": [],
   "source": []
  }
 ],
 "metadata": {
  "kernelspec": {
   "display_name": "Python 3",
   "language": "python",
   "name": "python3"
  },
  "language_info": {
   "codemirror_mode": {
    "name": "ipython",
    "version": 3
   },
   "file_extension": ".py",
   "mimetype": "text/x-python",
   "name": "python",
   "nbconvert_exporter": "python",
   "pygments_lexer": "ipython3",
   "version": "3.8.8"
  }
 },
 "nbformat": 4,
 "nbformat_minor": 5
}
